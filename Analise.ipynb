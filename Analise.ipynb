{
 "cells": [
  {
   "cell_type": "markdown",
   "id": "1a4fb21d",
   "metadata": {},
   "source": [
    "<h2>Trabalho de Conclusão de Disciplina"
   ]
  },
  {
   "cell_type": "markdown",
   "id": "c4ebe6de",
   "metadata": {},
   "source": [
    "<h2>Big data, Data Analytics e Ferramentas de análise de Dados"
   ]
  },
  {
   "cell_type": "markdown",
   "id": "2077df00",
   "metadata": {},
   "source": [
    "<h3>Aluno: Vitor Henrique Nunciatelli - RA: 621203933"
   ]
  },
  {
   "cell_type": "markdown",
   "id": "76e34acf",
   "metadata": {},
   "source": [
    "<h3>Pós Graduação - Especialização em IoT"
   ]
  },
  {
   "cell_type": "markdown",
   "id": "5ace7f01",
   "metadata": {},
   "source": [
    " <br>"
   ]
  },
  {
   "cell_type": "markdown",
   "id": "bc68c2a6",
   "metadata": {},
   "source": [
    "<h2>Análise de perda de conexão GSM em um dispositivo IoT"
   ]
  },
  {
   "cell_type": "markdown",
   "id": "90ba6170",
   "metadata": {},
   "source": [
    "Dados obtidos entre maio/2021 a novembro/2021"
   ]
  },
  {
   "cell_type": "markdown",
   "id": "794f036e",
   "metadata": {},
   "source": [
    "  "
   ]
  },
  {
   "cell_type": "markdown",
   "id": "ffeca2ca",
   "metadata": {},
   "source": [
    "![Imagem do dispositivo](foto1.jpg)"
   ]
  },
  {
   "cell_type": "code",
   "execution_count": null,
   "id": "f5435178",
   "metadata": {},
   "outputs": [],
   "source": []
  }
 ],
 "metadata": {
  "kernelspec": {
   "display_name": "Python 3",
   "language": "python",
   "name": "python3"
  },
  "language_info": {
   "codemirror_mode": {
    "name": "ipython",
    "version": 3
   },
   "file_extension": ".py",
   "mimetype": "text/x-python",
   "name": "python",
   "nbconvert_exporter": "python",
   "pygments_lexer": "ipython3",
   "version": "3.8.8"
  }
 },
 "nbformat": 4,
 "nbformat_minor": 5
}
