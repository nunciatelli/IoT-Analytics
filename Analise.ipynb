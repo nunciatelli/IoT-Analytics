{
 "cells": [
  {
   "cell_type": "markdown",
   "id": "1a4fb21d",
   "metadata": {},
   "source": [
    "<h2>Trabalho de Conclusão de Disciplina"
   ]
  },
  {
   "cell_type": "markdown",
   "id": "c4ebe6de",
   "metadata": {},
   "source": [
    "<h2>Big data, Data Analytics e Ferramentas de análise de Dados"
   ]
  },
  {
   "cell_type": "markdown",
   "id": "2077df00",
   "metadata": {},
   "source": [
    "<h3>Aluno: Vitor Henrique Nunciatelli - RA: 621203933"
   ]
  },
  {
   "cell_type": "markdown",
   "id": "76e34acf",
   "metadata": {},
   "source": [
    "<h3>Pós Graduação - Especialização em IoT"
   ]
  },
  {
   "cell_type": "markdown",
   "id": "bc68c2a6",
   "metadata": {},
   "source": [
    "<h2>Análise de temperatura de um data center"
   ]
  },
  {
   "cell_type": "markdown",
   "id": "ffeca2ca",
   "metadata": {},
   "source": [
    "<img src='foto1.jpg' width = 300 align='left'>"
   ]
  },
  {
   "cell_type": "markdown",
   "id": "3cd383d5",
   "metadata": {},
   "source": [
    "Dispositivo IoT transmissor dos dados"
   ]
  },
  {
   "cell_type": "markdown",
   "id": "dd4587ba",
   "metadata": {},
   "source": [
    "<h3>Dados da tabela"
   ]
  },
  {
   "cell_type": "markdown",
   "id": "51a1903e",
   "metadata": {},
   "source": [
    "- dataHora - Data e hora da captura do valor de temperatura\n",
    "- ponto - Em qual rack foi realizado a medição de temperatura\n",
    "- valorTemp - valor de temperatura obtido em °C"
   ]
  },
  {
   "cell_type": "markdown",
   "id": "ad1af0cc",
   "metadata": {},
   "source": [
    "<h3>Importação de bibliotecas e dos dados da tabela .csv"
   ]
  },
  {
   "cell_type": "code",
   "execution_count": 13,
   "id": "9a158b8e",
   "metadata": {},
   "outputs": [],
   "source": [
    "import numpy as np\n",
    "import pandas as pd\n",
    "import matplotlib.pyplot as plt\n",
    "%matplotlib inline\n",
    "import datetime\n",
    "import matplotlib.dates as mdates\n",
    "import matplotlib.dates as dates\n",
    "import seaborn as sns\n",
    "\n",
    "uri = ('medicaoSensores.csv')\n",
    "tabela = pd.read_csv(uri, sep = \";\", encoding = \"UTF-8\")"
   ]
  },
  {
   "cell_type": "markdown",
   "id": "20d29266",
   "metadata": {},
   "source": [
    "Exibindo a tabela"
   ]
  },
  {
   "cell_type": "code",
   "execution_count": 2,
   "id": "7933d5bd",
   "metadata": {},
   "outputs": [
    {
     "data": {
      "text/html": [
       "<div>\n",
       "<style scoped>\n",
       "    .dataframe tbody tr th:only-of-type {\n",
       "        vertical-align: middle;\n",
       "    }\n",
       "\n",
       "    .dataframe tbody tr th {\n",
       "        vertical-align: top;\n",
       "    }\n",
       "\n",
       "    .dataframe thead th {\n",
       "        text-align: right;\n",
       "    }\n",
       "</style>\n",
       "<table border=\"1\" class=\"dataframe\">\n",
       "  <thead>\n",
       "    <tr style=\"text-align: right;\">\n",
       "      <th></th>\n",
       "      <th>dataHora</th>\n",
       "      <th>ponto</th>\n",
       "      <th>valorTemp</th>\n",
       "    </tr>\n",
       "  </thead>\n",
       "  <tbody>\n",
       "    <tr>\n",
       "      <th>0</th>\n",
       "      <td>01/11/2021 00:03</td>\n",
       "      <td>RACK01</td>\n",
       "      <td>22.8</td>\n",
       "    </tr>\n",
       "    <tr>\n",
       "      <th>1</th>\n",
       "      <td>01/11/2021 00:12</td>\n",
       "      <td>RACK01</td>\n",
       "      <td>22.2</td>\n",
       "    </tr>\n",
       "    <tr>\n",
       "      <th>2</th>\n",
       "      <td>01/11/2021 00:17</td>\n",
       "      <td>RACK01</td>\n",
       "      <td>23.1</td>\n",
       "    </tr>\n",
       "    <tr>\n",
       "      <th>3</th>\n",
       "      <td>01/11/2021 00:21</td>\n",
       "      <td>RACK01</td>\n",
       "      <td>22.6</td>\n",
       "    </tr>\n",
       "    <tr>\n",
       "      <th>4</th>\n",
       "      <td>01/11/2021 00:26</td>\n",
       "      <td>RACK01</td>\n",
       "      <td>22.8</td>\n",
       "    </tr>\n",
       "    <tr>\n",
       "      <th>...</th>\n",
       "      <td>...</td>\n",
       "      <td>...</td>\n",
       "      <td>...</td>\n",
       "    </tr>\n",
       "    <tr>\n",
       "      <th>7520</th>\n",
       "      <td>30/11/2021 17:13</td>\n",
       "      <td>RACK01</td>\n",
       "      <td>21.5</td>\n",
       "    </tr>\n",
       "    <tr>\n",
       "      <th>7521</th>\n",
       "      <td>30/11/2021 17:18</td>\n",
       "      <td>RACK01</td>\n",
       "      <td>21.6</td>\n",
       "    </tr>\n",
       "    <tr>\n",
       "      <th>7522</th>\n",
       "      <td>30/11/2021 17:23</td>\n",
       "      <td>RACK01</td>\n",
       "      <td>21.8</td>\n",
       "    </tr>\n",
       "    <tr>\n",
       "      <th>7523</th>\n",
       "      <td>30/11/2021 17:28</td>\n",
       "      <td>RACK01</td>\n",
       "      <td>21.5</td>\n",
       "    </tr>\n",
       "    <tr>\n",
       "      <th>7524</th>\n",
       "      <td>30/11/2021 17:33</td>\n",
       "      <td>RACK01</td>\n",
       "      <td>21.9</td>\n",
       "    </tr>\n",
       "  </tbody>\n",
       "</table>\n",
       "<p>7525 rows × 3 columns</p>\n",
       "</div>"
      ],
      "text/plain": [
       "              dataHora   ponto  valorTemp\n",
       "0     01/11/2021 00:03  RACK01       22.8\n",
       "1     01/11/2021 00:12  RACK01       22.2\n",
       "2     01/11/2021 00:17  RACK01       23.1\n",
       "3     01/11/2021 00:21  RACK01       22.6\n",
       "4     01/11/2021 00:26  RACK01       22.8\n",
       "...                ...     ...        ...\n",
       "7520  30/11/2021 17:13  RACK01       21.5\n",
       "7521  30/11/2021 17:18  RACK01       21.6\n",
       "7522  30/11/2021 17:23  RACK01       21.8\n",
       "7523  30/11/2021 17:28  RACK01       21.5\n",
       "7524  30/11/2021 17:33  RACK01       21.9\n",
       "\n",
       "[7525 rows x 3 columns]"
      ]
     },
     "execution_count": 2,
     "metadata": {},
     "output_type": "execute_result"
    }
   ],
   "source": [
    "tabela.head(8000)"
   ]
  },
  {
   "cell_type": "markdown",
   "id": "41730c79",
   "metadata": {},
   "source": [
    "<br><h3>Verificando os tipos de dados"
   ]
  },
  {
   "cell_type": "code",
   "execution_count": 3,
   "id": "0b15ea63",
   "metadata": {},
   "outputs": [
    {
     "data": {
      "text/plain": [
       "dataHora      object\n",
       "ponto         object\n",
       "valorTemp    float64\n",
       "dtype: object"
      ]
     },
     "execution_count": 3,
     "metadata": {},
     "output_type": "execute_result"
    }
   ],
   "source": [
    "tabela.dtypes"
   ]
  },
  {
   "cell_type": "markdown",
   "id": "4076b0b4",
   "metadata": {},
   "source": [
    "<br>\n",
    "<h3>Obtendo dados estatísticos"
   ]
  },
  {
   "cell_type": "code",
   "execution_count": 4,
   "id": "b12e5935",
   "metadata": {},
   "outputs": [
    {
     "data": {
      "text/html": [
       "<div>\n",
       "<style scoped>\n",
       "    .dataframe tbody tr th:only-of-type {\n",
       "        vertical-align: middle;\n",
       "    }\n",
       "\n",
       "    .dataframe tbody tr th {\n",
       "        vertical-align: top;\n",
       "    }\n",
       "\n",
       "    .dataframe thead th {\n",
       "        text-align: right;\n",
       "    }\n",
       "</style>\n",
       "<table border=\"1\" class=\"dataframe\">\n",
       "  <thead>\n",
       "    <tr style=\"text-align: right;\">\n",
       "      <th></th>\n",
       "      <th>count</th>\n",
       "      <th>mean</th>\n",
       "      <th>std</th>\n",
       "      <th>min</th>\n",
       "      <th>25%</th>\n",
       "      <th>50%</th>\n",
       "      <th>75%</th>\n",
       "      <th>max</th>\n",
       "    </tr>\n",
       "  </thead>\n",
       "  <tbody>\n",
       "    <tr>\n",
       "      <th>valorTemp</th>\n",
       "      <td>7525.0</td>\n",
       "      <td>21.706206</td>\n",
       "      <td>0.53881</td>\n",
       "      <td>20.6</td>\n",
       "      <td>21.3</td>\n",
       "      <td>21.6</td>\n",
       "      <td>22.1</td>\n",
       "      <td>29.5</td>\n",
       "    </tr>\n",
       "  </tbody>\n",
       "</table>\n",
       "</div>"
      ],
      "text/plain": [
       "            count       mean      std   min   25%   50%   75%   max\n",
       "valorTemp  7525.0  21.706206  0.53881  20.6  21.3  21.6  22.1  29.5"
      ]
     },
     "execution_count": 4,
     "metadata": {},
     "output_type": "execute_result"
    }
   ],
   "source": [
    "tabela.describe().T"
   ]
  },
  {
   "cell_type": "markdown",
   "id": "d7f954f4",
   "metadata": {},
   "source": [
    "<br>\n",
    "<h3>Gráfico de temperatura"
   ]
  },
  {
   "cell_type": "code",
   "execution_count": 5,
   "id": "084d1823",
   "metadata": {},
   "outputs": [
    {
     "data": {
      "image/png": "[encoded data removed]",
      "text/plain": [
       "<Figure size 432x288 with 1 Axes>"
      ]
     },
     "metadata": {
      "needs_background": "light"
     },
     "output_type": "display_data"
    }
   ],
   "source": [
    "(tabela\n",
    " .dropna()\n",
    " .sort_values(by=\"dataHora\")\n",
    " .plot(x=\"dataHora\", y=\"valorTemp\")\n",
    ");"
   ]
  },
  {
   "cell_type": "markdown",
   "id": "177a7956",
   "metadata": {},
   "source": [
    "<br>\n",
    "<h3>Verifcando os registros com temperatura acima de 23°C"
   ]
  },
  {
   "cell_type": "code",
   "execution_count": 6,
   "id": "c25c29ed",
   "metadata": {},
   "outputs": [
    {
     "data": {
      "text/html": [
       "<div>\n",
       "<style scoped>\n",
       "    .dataframe tbody tr th:only-of-type {\n",
       "        vertical-align: middle;\n",
       "    }\n",
       "\n",
       "    .dataframe tbody tr th {\n",
       "        vertical-align: top;\n",
       "    }\n",
       "\n",
       "    .dataframe thead th {\n",
       "        text-align: right;\n",
       "    }\n",
       "</style>\n",
       "<table border=\"1\" class=\"dataframe\">\n",
       "  <thead>\n",
       "    <tr style=\"text-align: right;\">\n",
       "      <th></th>\n",
       "      <th>dataHora</th>\n",
       "      <th>ponto</th>\n",
       "      <th>valorTemp</th>\n",
       "    </tr>\n",
       "  </thead>\n",
       "  <tbody>\n",
       "    <tr>\n",
       "      <th>2</th>\n",
       "      <td>01/11/2021 00:17</td>\n",
       "      <td>RACK01</td>\n",
       "      <td>23.1</td>\n",
       "    </tr>\n",
       "    <tr>\n",
       "      <th>7</th>\n",
       "      <td>01/11/2021 00:48</td>\n",
       "      <td>RACK01</td>\n",
       "      <td>23.1</td>\n",
       "    </tr>\n",
       "    <tr>\n",
       "      <th>11</th>\n",
       "      <td>01/11/2021 01:13</td>\n",
       "      <td>RACK01</td>\n",
       "      <td>23.1</td>\n",
       "    </tr>\n",
       "    <tr>\n",
       "      <th>15</th>\n",
       "      <td>01/11/2021 01:35</td>\n",
       "      <td>RACK01</td>\n",
       "      <td>23.1</td>\n",
       "    </tr>\n",
       "    <tr>\n",
       "      <th>17</th>\n",
       "      <td>01/11/2021 01:45</td>\n",
       "      <td>RACK01</td>\n",
       "      <td>23.3</td>\n",
       "    </tr>\n",
       "    <tr>\n",
       "      <th>...</th>\n",
       "      <td>...</td>\n",
       "      <td>...</td>\n",
       "      <td>...</td>\n",
       "    </tr>\n",
       "    <tr>\n",
       "      <th>1100</th>\n",
       "      <td>05/11/2021 04:52</td>\n",
       "      <td>RACK01</td>\n",
       "      <td>23.1</td>\n",
       "    </tr>\n",
       "    <tr>\n",
       "      <th>1161</th>\n",
       "      <td>05/11/2021 09:58</td>\n",
       "      <td>RACK01</td>\n",
       "      <td>23.2</td>\n",
       "    </tr>\n",
       "    <tr>\n",
       "      <th>1199</th>\n",
       "      <td>05/11/2021 13:22</td>\n",
       "      <td>RACK01</td>\n",
       "      <td>23.1</td>\n",
       "    </tr>\n",
       "    <tr>\n",
       "      <th>2485</th>\n",
       "      <td>10/11/2021 16:39</td>\n",
       "      <td>RACK01</td>\n",
       "      <td>23.4</td>\n",
       "    </tr>\n",
       "    <tr>\n",
       "      <th>2486</th>\n",
       "      <td>10/11/2021 16:44</td>\n",
       "      <td>RACK01</td>\n",
       "      <td>23.6</td>\n",
       "    </tr>\n",
       "  </tbody>\n",
       "</table>\n",
       "<p>93 rows × 3 columns</p>\n",
       "</div>"
      ],
      "text/plain": [
       "              dataHora   ponto  valorTemp\n",
       "2     01/11/2021 00:17  RACK01       23.1\n",
       "7     01/11/2021 00:48  RACK01       23.1\n",
       "11    01/11/2021 01:13  RACK01       23.1\n",
       "15    01/11/2021 01:35  RACK01       23.1\n",
       "17    01/11/2021 01:45  RACK01       23.3\n",
       "...                ...     ...        ...\n",
       "1100  05/11/2021 04:52  RACK01       23.1\n",
       "1161  05/11/2021 09:58  RACK01       23.2\n",
       "1199  05/11/2021 13:22  RACK01       23.1\n",
       "2485  10/11/2021 16:39  RACK01       23.4\n",
       "2486  10/11/2021 16:44  RACK01       23.6\n",
       "\n",
       "[93 rows x 3 columns]"
      ]
     },
     "execution_count": 6,
     "metadata": {},
     "output_type": "execute_result"
    }
   ],
   "source": [
    "tabela[tabela.valorTemp >23]"
   ]
  },
  {
   "cell_type": "markdown",
   "id": "b7d14c72",
   "metadata": {},
   "source": [
    "<br>\n",
    "<h3>Gráfico com a temperatura acima de 23°C"
   ]
  },
  {
   "cell_type": "code",
   "execution_count": 7,
   "id": "fa64c7e0",
   "metadata": {},
   "outputs": [
    {
     "data": {
      "image/png": "[encoded data removed]",
      "text/plain": [
       "<Figure size 432x288 with 1 Axes>"
      ]
     },
     "metadata": {
      "needs_background": "light"
     },
     "output_type": "display_data"
    }
   ],
   "source": [
    "(tabela[tabela.valorTemp >23]\n",
    " .dropna()\n",
    " .sort_values(by=\"dataHora\")\n",
    " .plot(x=\"dataHora\", y=\"valorTemp\")\n",
    ");"
   ]
  },
  {
   "cell_type": "markdown",
   "id": "395f1f7c",
   "metadata": {},
   "source": [
    "<br>\n",
    "<h3>Seleção dos valores mais altos de temperatura"
   ]
  },
  {
   "cell_type": "code",
   "execution_count": 34,
   "id": "4da86954",
   "metadata": {},
   "outputs": [
    {
     "data": {
      "text/html": [
       "<div>\n",
       "<style scoped>\n",
       "    .dataframe tbody tr th:only-of-type {\n",
       "        vertical-align: middle;\n",
       "    }\n",
       "\n",
       "    .dataframe tbody tr th {\n",
       "        vertical-align: top;\n",
       "    }\n",
       "\n",
       "    .dataframe thead th {\n",
       "        text-align: right;\n",
       "    }\n",
       "</style>\n",
       "<table border=\"1\" class=\"dataframe\">\n",
       "  <thead>\n",
       "    <tr style=\"text-align: right;\">\n",
       "      <th></th>\n",
       "      <th>dataHora</th>\n",
       "      <th>ponto</th>\n",
       "      <th>valorTemp</th>\n",
       "    </tr>\n",
       "  </thead>\n",
       "  <tbody>\n",
       "    <tr>\n",
       "      <th>631</th>\n",
       "      <td>03/11/2021 11:04</td>\n",
       "      <td>RACK01</td>\n",
       "      <td>29.5</td>\n",
       "    </tr>\n",
       "    <tr>\n",
       "      <th>630</th>\n",
       "      <td>03/11/2021 10:59</td>\n",
       "      <td>RACK01</td>\n",
       "      <td>28.5</td>\n",
       "    </tr>\n",
       "    <tr>\n",
       "      <th>632</th>\n",
       "      <td>03/11/2021 11:08</td>\n",
       "      <td>RACK01</td>\n",
       "      <td>27.9</td>\n",
       "    </tr>\n",
       "    <tr>\n",
       "      <th>629</th>\n",
       "      <td>03/11/2021 10:55</td>\n",
       "      <td>RACK01</td>\n",
       "      <td>27.5</td>\n",
       "    </tr>\n",
       "    <tr>\n",
       "      <th>633</th>\n",
       "      <td>03/11/2021 11:13</td>\n",
       "      <td>RACK01</td>\n",
       "      <td>24.5</td>\n",
       "    </tr>\n",
       "  </tbody>\n",
       "</table>\n",
       "</div>"
      ],
      "text/plain": [
       "             dataHora   ponto  valorTemp\n",
       "631  03/11/2021 11:04  RACK01       29.5\n",
       "630  03/11/2021 10:59  RACK01       28.5\n",
       "632  03/11/2021 11:08  RACK01       27.9\n",
       "629  03/11/2021 10:55  RACK01       27.5\n",
       "633  03/11/2021 11:13  RACK01       24.5"
      ]
     },
     "execution_count": 34,
     "metadata": {},
     "output_type": "execute_result"
    }
   ],
   "source": [
    "tabela.nlargest(5, \"valorTemp\")"
   ]
  },
  {
   "cell_type": "markdown",
   "id": "151ad67c",
   "metadata": {},
   "source": [
    "<br>\n",
    "<h3>Análise dos valores de temperatura"
   ]
  },
  {
   "cell_type": "markdown",
   "id": "36e3bb65",
   "metadata": {},
   "source": [
    "Todos os valores"
   ]
  },
  {
   "cell_type": "code",
   "execution_count": 42,
   "id": "d5693e2a",
   "metadata": {},
   "outputs": [
    {
     "data": {
      "text/plain": [
       "<AxesSubplot:xlabel='valorTemp', ylabel='Density'>"
      ]
     },
     "execution_count": 42,
     "metadata": {},
     "output_type": "execute_result"
    },
    {
     "data": {
      "image/png": "[encoded data removed]",
      "text/plain": [
       "<Figure size 1440x360 with 1 Axes>"
      ]
     },
     "metadata": {
      "needs_background": "light"
     },
     "output_type": "display_data"
    }
   ],
   "source": [
    "fig,ax=plt.subplots(1,figsize=(20,5))\n",
    "sns.kdeplot(tabela.loc[tabela['valorTemp'] > 0,'valorTemp'],shade=True,ax=ax,label='Temperatura')"
   ]
  },
  {
   "cell_type": "markdown",
   "id": "de0a5f2e",
   "metadata": {},
   "source": [
    "Valores acima de 23°C"
   ]
  },
  {
   "cell_type": "code",
   "execution_count": 41,
   "id": "efddfa43",
   "metadata": {},
   "outputs": [
    {
     "data": {
      "text/plain": [
       "<AxesSubplot:xlabel='valorTemp', ylabel='Density'>"
      ]
     },
     "execution_count": 41,
     "metadata": {},
     "output_type": "execute_result"
    },
    {
     "data": {
      "image/png": "[encoded data removed]",
      "text/plain": [
       "<Figure size 1440x360 with 1 Axes>"
      ]
     },
     "metadata": {
      "needs_background": "light"
     },
     "output_type": "display_data"
    }
   ],
   "source": [
    "fig,ax=plt.subplots(1,figsize=(20,5))\n",
    "sns.kdeplot(tabela.loc[tabela['valorTemp'] > 23,'valorTemp'],shade=True,ax=ax,label='Temperatura')"
   ]
  }
 ],
 "metadata": {
  "kernelspec": {
   "display_name": "Python 3",
   "language": "python",
   "name": "python3"
  },
  "language_info": {
   "codemirror_mode": {
    "name": "ipython",
    "version": 3
   },
   "file_extension": ".py",
   "mimetype": "text/x-python",
   "name": "python",
   "nbconvert_exporter": "python",
   "pygments_lexer": "ipython3",
   "version": "3.8.8"
  }
 },
 "nbformat": 4,
 "nbformat_minor": 5
}
